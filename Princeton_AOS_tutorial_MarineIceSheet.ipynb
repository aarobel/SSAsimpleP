{
 "cells": [
  {
   "cell_type": "markdown",
   "metadata": {},
   "source": [
    "# Marine Ice Sheet Stability Demo"
   ]
  },
  {
   "cell_type": "markdown",
   "metadata": {},
   "source": [
    "This is a demonstration of some models for the evolution of marine ice sheets. This was modified for the Princeton AOS workshop 2021. Last updated by Alex Robel on July 20, 2021."
   ]
  },
  {
   "cell_type": "markdown",
   "metadata": {},
   "source": [
    "## Load Packages"
   ]
  },
  {
   "cell_type": "code",
   "execution_count": 1,
   "metadata": {},
   "outputs": [],
   "source": [
    "import numpy as np\n",
    "import matplotlib.pyplot as plt\n",
    "from ipywidgets import interactive"
   ]
  },
  {
   "cell_type": "markdown",
   "metadata": {},
   "source": [
    "## Define simple model with plotting"
   ]
  },
  {
   "cell_type": "code",
   "execution_count": 4,
   "metadata": {},
   "outputs": [],
   "source": [
    "def plotmodel(accum,oceanmelt,Linit):\n",
    "    #other parameters\n",
    "    rho_i = 917    #ice density\n",
    "    rho_w = 1028   #water density\n",
    "    g = 9.81       #gravity (in m/s^2)\n",
    "    beta = 4       #GL flux exponent\n",
    "\n",
    "    #time stepping\n",
    "    tf = 5000       #length of simulation\n",
    "    nt = 5000       #number of time steps\n",
    "    dt = tf/nt     #length of time step\n",
    "    L = np.zeros([nt+1]) #pre-allocate volume vector\n",
    "    L[0] = Linit     #initial condition\n",
    "    \n",
    "    omega = oceanmelt*5e-7   #GL flux coefficient\n",
    "    #run model for grounding line Evolution\n",
    "    for t in range(nt):\n",
    "        b = -(729 - 2184.8*(L[t]/750e3)**2 + 1031.72*(L[t]/750e3)**4 - 151.72*(L[t]/750e3)**6)   #calculate bed depth at current grounding line position from MISMIP topography\n",
    "        hg = (rho_w/rho_i)*b      #calculate flotation thickness at GL\n",
    "        Q_g = omega*(hg**beta)      #calculate GL flux\n",
    "  \n",
    "        dL_dt = (accum*L[t] - Q_g)/hg #calculate RHS of model\n",
    "    \n",
    "        L[t+1] = L[t] + dL_dt*dt       #use forward euler to advance model\n",
    "    \n",
    "    #calculate some diagnostics\n",
    "    time = np.linspace(0,tf,nt+1)\n",
    "    x = np.linspace(400.0,1500.0,1000)\n",
    "    bx = (729 - 2184.8*(x/750)**2 + 1031.72*(x/750)**4 - 151.72*(x/750)**6)\n",
    "    binit = (729 - 2184.8*(L[0]/750e3)**2 + 1031.72*(L[0]/750e3)**4 - 151.72*(L[0]/750e3)**6)\n",
    "    bend = (729 - 2184.8*(L[-1]/750e3)**2 + 1031.72*(L[-1]/750e3)**4 - 151.72*(L[-1]/750e3)**6)\n",
    "    hgs = -(rho_w/rho_i)*(729 - 2184.8*(x/750)**2 + 1031.72*(x/750)**4 - 151.72*(x/750)**6)\n",
    "    hgsl = -(rho_w/rho_i)*(729 - 2184.8*(L/750e3)**2 + 1031.72*(L/750e3)**4 - 151.72*(L/750e3)**6)\n",
    "\n",
    "    #plot time evolution of grounding line\n",
    "    fig, (ax1, ax2, ax3) = plt.subplots(3,figsize=(10,10))\n",
    "\n",
    "    ax1.set_xlabel('x (km)')  # we already handled the x-label with ax1\n",
    "    ax1.set_ylabel('Bed topography (m)')  # we already handled the x-label with ax1\n",
    "    ax1.plot(x, bx)\n",
    "    ax1.plot(L[0]/1e3,binit,'ks', markersize=12)\n",
    "    ax1.plot(L[-1]/1e3,bend,'ko', markersize=12)\n",
    "    \n",
    "    ax2.set_ylabel('Grounding line position (km)')  # we already handled the x-label with ax1\n",
    "    ax2.set_xlabel('Time (years)')  # we already handled the x-label with ax1\n",
    "    ax2.plot(time, L/1e3)\n",
    "    \n",
    "    ax3.set_ylabel('Fluxes (m^2/yr)')  # we already handled the x-label with ax1\n",
    "    ax3.set_xlabel('x (km)')  # we already handled the x-label with ax1\n",
    "    ax3.plot(x, accum*x*1e3,'b')\n",
    "    ax3.plot(x, omega*(hgs**beta),'r')\n",
    "    ax3.plot(L[0]/1e3, accum*L[0],'bs', markersize=12)\n",
    "    ax3.plot(L[0]/1e3, omega*(hgsl[0]**beta),'rs', markersize=12)\n",
    "    ax3.plot(L[-1]/1e3, accum*L[-1],'bo', markersize=12)\n",
    "    ax3.plot(L[-1]/1e3, omega*(hgsl[-1]**beta),'ro', markersize=12)\n",
    "    plt.ylim(0,10e5)\n",
    "    plt.xlim(500,1600)\n",
    "    \n",
    "    plt.show()\n",
    "    \n",
    "    plt.show()"
   ]
  },
  {
   "cell_type": "markdown",
   "metadata": {},
   "source": [
    "## Generate interactive plot of simple model evolution"
   ]
  },
  {
   "cell_type": "code",
   "execution_count": 14,
   "metadata": {},
   "outputs": [
    {
     "data": {
      "application/vnd.jupyter.widget-view+json": {
       "model_id": "ebfb1f99e7514e9a8d9eed5d36fa5940",
       "version_major": 2,
       "version_minor": 0
      },
      "text/plain": [
       "interactive(children=(FloatSlider(value=0.35000000000000003, description='accum', max=0.7, min=0.05, step=0.05…"
      ]
     },
     "metadata": {},
     "output_type": "display_data"
    }
   ],
   "source": [
    "interactive_plot = interactive(plotmodel, accum=(0.05,0.7,0.05), oceanmelt=(0.5,2,0.1),Linit=(600e3,1500e3,100e3))\n",
    "interactive_plot"
   ]
  },
  {
   "cell_type": "markdown",
   "metadata": {},
   "source": [
    "## Instructions for break-out groups "
   ]
  },
  {
   "cell_type": "markdown",
   "metadata": {},
   "source": [
    "Split into groups of 2-3 (via breakout rooms), and answer the following questions:\n",
    "1. Lower accumulation rate via snowfall (using top slider). Describe what happens to the transient response, and the flux balance. Is there a tipping point of accumulation at which things change?\n",
    "2. Now (with accumulation back to 0.3 m/yr) progressively increase oceanmelt (which increases the grounding line flux). What changes?\n",
    "3. Finally, do the above experiments again, but with an initial grounding line position (Li"
   ]
  },
  {
   "cell_type": "code",
   "execution_count": null,
   "metadata": {},
   "outputs": [],
   "source": []
  }
 ],
 "metadata": {
  "kernelspec": {
   "display_name": "Python 3",
   "language": "python",
   "name": "python3"
  },
  "language_info": {
   "codemirror_mode": {
    "name": "ipython",
    "version": 3
   },
   "file_extension": ".py",
   "mimetype": "text/x-python",
   "name": "python",
   "nbconvert_exporter": "python",
   "pygments_lexer": "ipython3",
   "version": "3.7.3"
  }
 },
 "nbformat": 4,
 "nbformat_minor": 2
}
