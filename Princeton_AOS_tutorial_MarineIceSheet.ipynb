{
 "cells": [
  {
   "cell_type": "markdown",
   "metadata": {},
   "source": [
    "# Marine Ice Sheet Stability Demo"
   ]
  },
  {
   "cell_type": "markdown",
   "metadata": {},
   "source": [
    "This is a demonstration of some models for the evolution of marine ice sheets. This was modified for the Princeton AOS workshop 2021. Last updated by Alex Robel on July 20, 2021."
   ]
  },
  {
   "cell_type": "markdown",
   "metadata": {},
   "source": [
    "## Load Packages"
   ]
  },
  {
   "cell_type": "code",
   "execution_count": 5,
   "metadata": {},
   "outputs": [],
   "source": [
    "import numpy as np\n",
    "import matplotlib.pyplot as plt\n",
    "from ipywidgets import interactive\n",
    "from scipy import optimize"
   ]
  },
  {
   "cell_type": "markdown",
   "metadata": {},
   "source": [
    "## Define simple model with plotting"
   ]
  },
  {
   "cell_type": "code",
   "execution_count": 33,
   "metadata": {},
   "outputs": [],
   "source": [
    "def plotmodel(accum,Linit):\n",
    "    #other parameters\n",
    "    rho_i = 917    #ice density\n",
    "    rho_w = 1028   #water density\n",
    "    g = 9.81       #gravity (in m/s^2)\n",
    "    beta = 4       #GL flux exponent\n",
    "\n",
    "    #time stepping\n",
    "    tf = 5000       #length of simulation\n",
    "    nt = 5000       #number of time steps\n",
    "    dt = tf/nt     #length of time step\n",
    "    L = np.zeros([nt+1]) #pre-allocate volume vector\n",
    "    L[0] = Linit     #initial condition\n",
    "    \n",
    "    omega = 5e-7   #GL flux coefficient\n",
    "    #run model for grounding line Evolution\n",
    "    for t in range(nt):\n",
    "        b = -(729 - 2184.8*(L[t]/750e3)**2 + 1031.72*(L[t]/750e3)**4 - 151.72*(L[t]/750e3)**6)   #calculate bed depth at current grounding line position from MISMIP topography\n",
    "        hg = (rho_w/rho_i)*b      #calculate flotation thickness at GL\n",
    "        Q_g = omega*(hg**beta)      #calculate GL flux\n",
    "  \n",
    "        dL_dt = (accum*L[t] - Q_g)/hg #calculate RHS of model\n",
    "    \n",
    "        L[t+1] = L[t] + dL_dt*dt       #use forward euler to advance model\n",
    "    \n",
    "    #calculate some diagnostics\n",
    "    time = np.linspace(0,tf,nt+1)\n",
    "    x = np.linspace(400.0,1500.0,1000)\n",
    "    bx = (729 - 2184.8*(x/750)**2 + 1031.72*(x/750)**4 - 151.72*(x/750)**6)\n",
    "    binit = (729 - 2184.8*(L[0]/750e3)**2 + 1031.72*(L[0]/750e3)**4 - 151.72*(L[0]/750e3)**6)\n",
    "    bend = (729 - 2184.8*(L[-1]/750e3)**2 + 1031.72*(L[-1]/750e3)**4 - 151.72*(L[-1]/750e3)**6)\n",
    "    hgs = -(rho_w/rho_i)*(729 - 2184.8*(x/750)**2 + 1031.72*(x/750)**4 - 151.72*(x/750)**6)\n",
    "    hgsl = -(rho_w/rho_i)*(729 - 2184.8*(L/750e3)**2 + 1031.72*(L/750e3)**4 - 151.72*(L/750e3)**6)\n",
    "\n",
    "    #plot time evolution of grounding line\n",
    "    fig, (ax1, ax2, ax3) = plt.subplots(3,figsize=(10,10))\n",
    "\n",
    "    ax1.set_xlabel('x (km)')  # we already handled the x-label with ax1\n",
    "    ax1.set_ylabel('Bed topography (m)')  # we already handled the x-label with ax1\n",
    "    ax1.plot(x, bx)\n",
    "    ax1.plot(L[0]/1e3,binit,'bs', markersize=12)\n",
    "    ax1.plot(L[-1]/1e3,bend,'ro', markersize=12)\n",
    "    \n",
    "    ax2.set_ylabel('Grounding line position (km)')  # we already handled the x-label with ax1\n",
    "    ax2.set_xlabel('Time (years)')  # we already handled the x-label with ax1\n",
    "    ax2.plot(time, L/1e3)\n",
    "    \n",
    "    ax3.set_ylabel('Fluxes (m^2/yr)')  # we already handled the x-label with ax1\n",
    "    ax3.set_xlabel('x (km)')  # we already handled the x-label with ax1\n",
    "    ax3.plot(x, accum*x*1e3,'b')\n",
    "    ax3.plot(x, omega*(hgs**beta),'r')\n",
    "    ax3.plot(L[0]/1e3, accum*L[0],'bs', markersize=12)\n",
    "    ax3.plot(L[0]/1e3, omega*(hgsl[0]**beta),'rs', markersize=12)\n",
    "    ax3.plot(L[-1]/1e3, accum*L[-1],'bo', markersize=12)\n",
    "    ax3.plot(L[-1]/1e3, omega*(hgsl[-1]**beta),'ro', markersize=12)\n",
    "    plt.ylim(0,10e5)\n",
    "    plt.xlim(500,1600)\n",
    "    \n",
    "    plt.show()\n",
    "    \n",
    "    plt.show()"
   ]
  },
  {
   "cell_type": "markdown",
   "metadata": {},
   "source": [
    "## Generate interactive plot of simple model evolution"
   ]
  },
  {
   "cell_type": "code",
   "execution_count": 34,
   "metadata": {},
   "outputs": [
    {
     "data": {
      "application/vnd.jupyter.widget-view+json": {
       "model_id": "949c1a5b7ab24c7f8db2f804eefbaa32",
       "version_major": 2,
       "version_minor": 0
      },
      "text/plain": [
       "interactive(children=(FloatSlider(value=0.35000000000000003, description='accum', max=0.7, min=0.05, step=0.05…"
      ]
     },
     "metadata": {},
     "output_type": "display_data"
    }
   ],
   "source": [
    "interactive_plot = interactive(plotmodel, accum=(0.05,0.7,0.05), Linit=(600e3,1500e3,100e3))\n",
    "interactive_plot"
   ]
  },
  {
   "cell_type": "markdown",
   "metadata": {},
   "source": [
    "## Define Flowline Model"
   ]
  },
  {
   "cell_type": "code",
   "execution_count": 46,
   "metadata": {},
   "outputs": [],
   "source": [
    "def bed(x,params):\n",
    "    \n",
    "    #Schoof (2007) bed topo (aka MISMIP bed)\n",
    "    b = -(729 - 2184.8*(x/750e3)**2 +1031.72*(x/750e3)**4 - 151.72*(x/750e3)**6);\n",
    "\n",
    "    return b"
   ]
  },
  {
   "cell_type": "code",
   "execution_count": 131,
   "metadata": {},
   "outputs": [],
   "source": [
    "def flowline_eqns(huxg,*huxglast):\n",
    "\n",
    "    #oh no, defining all parameters in the function, don't do this at home\n",
    "    params = {'b0': -100};           #bed topo at x=0\n",
    "    params['bx'] = -0.001;           #linear bed slope\n",
    "\n",
    "    params['sill_min'] = 2000e3;   #sill min x position\n",
    "    params['sill_max'] = 2100e3;   #sill max x position\n",
    "    params['sill_slope'] = 1e-3;   #slope of sill\n",
    "\n",
    "    #Physical parameters\n",
    "    params['year'] = 3600*24*365;  #number of seconds in a year\n",
    "    params['Aglen'] = 4.227e-25;   #ice softness parameter\n",
    "    params['nglen'] = 3;           #Glen's exponent\n",
    "    params['Bglen'] = params['Aglen']**(-1/params['nglen']);\n",
    "    params['m']     = 1/params['nglen'];  #sliding exponent (power law)\n",
    "    params['accum'] = 0.28/params['year']; #SMB (constant here)\n",
    "    params['C']     = 7e6;        #sliding coefficient (power law)\n",
    "    params['rhoi']  = 917;         #ice density\n",
    "    params['rhow']  = 1028;        #water density\n",
    "    params['g']     = 9.81;        #gravity accel\n",
    "\n",
    "    #Scaling params (coupled model equations solved in non-dim form)\n",
    "    params['hscale'] = 1000;               #thickness scaling\n",
    "    params['ascale'] = 0.1/params['year'];    #SMB scaling \n",
    "    params['uscale'] = (params['rhoi']*params['g']*params['hscale']*params['ascale']/params['C'])**(1/(params['m']+1)); #velocity scaling\n",
    "    params['xscale'] = params['uscale']*params['hscale']/params['ascale'];  #horizontal distance scaling\n",
    "    params['tscale'] = params['xscale']/params['uscale'];                #time scaling\n",
    "    params['eps']    = params['Bglen']*((params['uscale']/params['xscale'])**(1/params['nglen']))/(2*params['rhoi']*params['g']*params['hscale']);  #epsilon param (Schoof 2007)\n",
    "    params['lambda'] = 1 - params['rhoi']/params['rhow'];  #density difference (lambda param Schoof 2007)\n",
    "    params['transient'] = 0;                  #0 if solving for steady-state, 1 if solving for transient evolution\n",
    "\n",
    "    #Grid parameters\n",
    "    params['tfinal'] = 10e3*params['year'];   #length of transient simulation\n",
    "    params['Nt'] = 1e2;                       #number of time steps\n",
    "    params['dt'] = params['tfinal']/params['Nt'];   #time step length\n",
    "    params['Nx'] = 200;                       #number of grid points\n",
    "    params['N1'] = 100;                       #number of grid points in coarse domain\n",
    "    params['sigGZ'] = 0.97;                   #extent of coarse grid (where GL is at sigma=1)\n",
    "    sigma1=np.linspace(params['sigGZ']/(params['N1']+0.5), params['sigGZ'], params['N1']);\n",
    "    sigma2=np.linspace(params['sigGZ'], 1, params['Nx']-params['N1']+1);\n",
    "    params['sigma'] = np.concatenate((sigma1, sigma2[1:params['Nx']-1]));    #grid points on velocity (includes GL, not ice divide)\n",
    "    sigma = params['sigma'];\n",
    "    params['sigma_elem'] = np.concatenate(([0],(sigma[0:params['Nx']-2] + sigma[1:params['Nx']-1])/2)); #grid points on thickness (includes divide, not GL)\n",
    "    params['dsigma'] = np.diff(params['sigma']); #grid spacing\n",
    "    \n",
    "    #vars unpack\n",
    "    Nx = params['Nx'];\n",
    "    h = huxg[0:Nx];\n",
    "    u = huxg[Nx:2*Nx-1];\n",
    "    xg = huxg[2*Nx];\n",
    "    \n",
    "    #grid params unpack\n",
    "    dt = params['dt']/params['tscale'];\n",
    "    ds = params['dsigma'];\n",
    "    N1 = params['N1'];\n",
    "    sigma = params['sigma'];\n",
    "    sigma_elem = params['sigma_elem'];\n",
    "    Fh = np.zeros(Nx);\n",
    "    Fu = np.zeros(Nx);\n",
    "\n",
    "    #physical params unpack\n",
    "    m     = params['m'];\n",
    "    nglen = params['nglen'];\n",
    "    lambdap = params['lambda'];\n",
    "    accum = params['accum'];\n",
    "    a = accum/params['ascale'];\n",
    "    eps = params['eps'];\n",
    "    ss = params['transient'];\n",
    "    xscale = params['xscale'];\n",
    "    hscale = params['hscale'];\n",
    "    \n",
    "    #previous time step unpack\n",
    "    b = -1*bed(xg*sigma*xscale,params)/hscale;\n",
    "    hf = (-1*bed(xg*xscale,params)/hscale)/(1-lambdap);\n",
    "    h_old, u_old, xg_old = huxglast\n",
    "\n",
    "    #thickness\n",
    "    Fh[0]      = ss*(h[0]-h_old[0])/dt + (2*h[0]*u[0])/(ds[0]*xg) - a;\n",
    "    Fh[1]      = ss*(h[1]-h_old[1])/dt - ss*sigma_elem[1]*(xg-xg_old)*(h[2]-h[0])/(2*dt*ds[1]*xg) + (h[1]*(u[1]+u[0]))/(2*xg*ds[1]) - a;\n",
    "    Fh[2:Nx-2] = ss*(h[2:Nx-2]-h_old[2:Nx-2])/dt - ss*sigma_elem[2:Nx-2]*(xg-xg_old)*(h[3:Nx-1]-h[1:Nx-3])/(2*dt*ds[2:Nx-2]*xg) + (h[2:Nx-2]*(u[2:Nx-2]+u[1:Nx-3]) - h[1:Nx-3]*(u[1:Nx-3]+u[0:Nx-4]))/(2*xg*ds[2:Nx-2]) - a;\n",
    "\n",
    "    Fh[N1-1] = (1+0.5*(1+(ds[N1-1])/ds[N1-2]))*h[N1-1] - 0.5*(1+(ds[N1-1]/ds[N1-2]))*h[N1-2] - h[N1];\n",
    "\n",
    "    Fh[Nx-1]     = ss*(h[Nx-1]-h_old[Nx-1])/dt - ss*sigma_elem[Nx-2]*(xg-xg_old)*(h[Nx-1]-h[Nx-2])/(dt*ds[Nx-2]*xg) + (h[Nx-1]*(u[Nx-1]+u[Nx-2]) - h[Nx-2]*(u[Nx-2]+u[Nx-3]))/(2*xg*ds[Nx-2]) - a;\n",
    "\n",
    "  #velocity\n",
    "    Fu[0]      = (4*eps)*(1/(xg*ds[0])**((1/nglen)+1))*(h[1]*(u[1]-u[0])*np.absolute(u[1]-u[0])**((1/nglen)-1) - h[0]*(2*u[0])*np.absolute(2*u[0])**((1/nglen)-1)) - u[0]*np.absolute(u[0])**(m-1) - 0.5*(h[0]+h[1])*(h[1]-b[1]-h[0]+b[0])/(xg*ds[0]);\n",
    "    Fu[1:Nx-2] = (4*eps)*(1/(xg*ds[1:Nx-2])**((1/nglen)+1))*(h[2:Nx-1]*(u[2:Nx-1]-u[1:Nx-2])*np.absolute(u[2:Nx-1]-u[1:Nx-2])**((1/nglen)-1) -h[1:Nx-2]*(u[1:Nx-2]-u[0:Nx-3])*np.absolute(u[1:Nx-2]-u[0:Nx-3])**((1/nglen)-1)) -u[1:Nx-2]*np.absolute(u[1:Nx-2])**(m-1) -0.5*(h[1:Nx-2]+h[2:Nx-1])*(h[2:Nx-1]-b[2:Nx-1]-h[1:Nx-2]+b[1:Nx-2])/(xg*ds[1:Nx-2]);\n",
    "    Fu[N1-1]     = (u[N1]-u[N1-1])/ds[N1-1] - (u[N1-1]-u[N1-2])/ds[N1-2];\n",
    "    Fu[Nx-1]     = (1/(xg*ds[Nx-2])**(1/nglen))*(np.absolute(u[Nx-1]-u[Nx-2])**((1/nglen)-1))*(u[Nx-1]-u[Nx-2]) - lambdap*hf/(8*eps);\n",
    "\n",
    "    Fxg        = 3*h[Nx-1] - h[Nx-2] - 2*hf;\n",
    "\n",
    "    F = np.concatenate((Fh,Fu,Fxg));\n",
    "    return F\n"
   ]
  },
  {
   "cell_type": "markdown",
   "metadata": {},
   "source": [
    "## Solve for steady-state initial conditions"
   ]
  },
  {
   "cell_type": "code",
   "execution_count": 132,
   "metadata": {},
   "outputs": [
    {
     "data": {
      "text/plain": [
       "401"
      ]
     },
     "execution_count": 132,
     "metadata": {},
     "output_type": "execute_result"
    }
   ],
   "source": [
    "params['accum'] = 1/params['year'];\n",
    "xg = 1500e3/params['xscale'];\n",
    "hf = (-bed(xg*params['xscale'],params)/params['hscale'])/(1-params['lambda']);\n",
    "h = 1 - (1-hf)*params['sigma'];\n",
    "u = 0.3*(params['sigma']**(1/3)) + 1e-3;\n",
    "\n",
    "huxg0 = np.concatenate((h,u,[xg]));\n",
    "huxglast = (h,u,xg)\n",
    "h_old, u_old, xg_old = huxglast\n",
    "np.size(huxg0)"
   ]
  },
  {
   "cell_type": "code",
   "execution_count": 133,
   "metadata": {},
   "outputs": [
    {
     "ename": "IndexError",
     "evalue": "index 199 is out of bounds for axis 0 with size 199",
     "output_type": "error",
     "traceback": [
      "\u001b[0;31m---------------------------------------------------------------------------\u001b[0m",
      "\u001b[0;31mIndexError\u001b[0m                                Traceback (most recent call last)",
      "\u001b[0;32m<ipython-input-133-a6519913c5b9>\u001b[0m in \u001b[0;36m<module>\u001b[0;34m\u001b[0m\n\u001b[1;32m      1\u001b[0m \u001b[0;32mfrom\u001b[0m \u001b[0mscipy\u001b[0m\u001b[0;34m.\u001b[0m\u001b[0moptimize\u001b[0m \u001b[0;32mimport\u001b[0m \u001b[0mfsolve\u001b[0m\u001b[0;34m\u001b[0m\u001b[0;34m\u001b[0m\u001b[0m\n\u001b[0;32m----> 2\u001b[0;31m \u001b[0mroot\u001b[0m \u001b[0;34m=\u001b[0m \u001b[0mfsolve\u001b[0m\u001b[0;34m(\u001b[0m\u001b[0mflowline_eqns\u001b[0m\u001b[0;34m,\u001b[0m \u001b[0mhuxg0\u001b[0m\u001b[0;34m,\u001b[0m\u001b[0margs\u001b[0m\u001b[0;34m=\u001b[0m\u001b[0mhuxglast\u001b[0m\u001b[0;34m)\u001b[0m\u001b[0;34m\u001b[0m\u001b[0;34m\u001b[0m\u001b[0m\n\u001b[0m",
      "\u001b[0;32m/usr/local/anaconda3/lib/python3.7/site-packages/scipy/optimize/minpack.py\u001b[0m in \u001b[0;36mfsolve\u001b[0;34m(func, x0, args, fprime, full_output, col_deriv, xtol, maxfev, band, epsfcn, factor, diag)\u001b[0m\n\u001b[1;32m    145\u001b[0m                'diag': diag}\n\u001b[1;32m    146\u001b[0m \u001b[0;34m\u001b[0m\u001b[0m\n\u001b[0;32m--> 147\u001b[0;31m     \u001b[0mres\u001b[0m \u001b[0;34m=\u001b[0m \u001b[0m_root_hybr\u001b[0m\u001b[0;34m(\u001b[0m\u001b[0mfunc\u001b[0m\u001b[0;34m,\u001b[0m \u001b[0mx0\u001b[0m\u001b[0;34m,\u001b[0m \u001b[0margs\u001b[0m\u001b[0;34m,\u001b[0m \u001b[0mjac\u001b[0m\u001b[0;34m=\u001b[0m\u001b[0mfprime\u001b[0m\u001b[0;34m,\u001b[0m \u001b[0;34m**\u001b[0m\u001b[0moptions\u001b[0m\u001b[0;34m)\u001b[0m\u001b[0;34m\u001b[0m\u001b[0;34m\u001b[0m\u001b[0m\n\u001b[0m\u001b[1;32m    148\u001b[0m     \u001b[0;32mif\u001b[0m \u001b[0mfull_output\u001b[0m\u001b[0;34m:\u001b[0m\u001b[0;34m\u001b[0m\u001b[0;34m\u001b[0m\u001b[0m\n\u001b[1;32m    149\u001b[0m         \u001b[0mx\u001b[0m \u001b[0;34m=\u001b[0m \u001b[0mres\u001b[0m\u001b[0;34m[\u001b[0m\u001b[0;34m'x'\u001b[0m\u001b[0;34m]\u001b[0m\u001b[0;34m\u001b[0m\u001b[0;34m\u001b[0m\u001b[0m\n",
      "\u001b[0;32m/usr/local/anaconda3/lib/python3.7/site-packages/scipy/optimize/minpack.py\u001b[0m in \u001b[0;36m_root_hybr\u001b[0;34m(func, x0, args, jac, col_deriv, xtol, maxfev, band, eps, factor, diag, **unknown_options)\u001b[0m\n\u001b[1;32m    211\u001b[0m     \u001b[0;32mif\u001b[0m \u001b[0;32mnot\u001b[0m \u001b[0misinstance\u001b[0m\u001b[0;34m(\u001b[0m\u001b[0margs\u001b[0m\u001b[0;34m,\u001b[0m \u001b[0mtuple\u001b[0m\u001b[0;34m)\u001b[0m\u001b[0;34m:\u001b[0m\u001b[0;34m\u001b[0m\u001b[0;34m\u001b[0m\u001b[0m\n\u001b[1;32m    212\u001b[0m         \u001b[0margs\u001b[0m \u001b[0;34m=\u001b[0m \u001b[0;34m(\u001b[0m\u001b[0margs\u001b[0m\u001b[0;34m,\u001b[0m\u001b[0;34m)\u001b[0m\u001b[0;34m\u001b[0m\u001b[0;34m\u001b[0m\u001b[0m\n\u001b[0;32m--> 213\u001b[0;31m     \u001b[0mshape\u001b[0m\u001b[0;34m,\u001b[0m \u001b[0mdtype\u001b[0m \u001b[0;34m=\u001b[0m \u001b[0m_check_func\u001b[0m\u001b[0;34m(\u001b[0m\u001b[0;34m'fsolve'\u001b[0m\u001b[0;34m,\u001b[0m \u001b[0;34m'func'\u001b[0m\u001b[0;34m,\u001b[0m \u001b[0mfunc\u001b[0m\u001b[0;34m,\u001b[0m \u001b[0mx0\u001b[0m\u001b[0;34m,\u001b[0m \u001b[0margs\u001b[0m\u001b[0;34m,\u001b[0m \u001b[0mn\u001b[0m\u001b[0;34m,\u001b[0m \u001b[0;34m(\u001b[0m\u001b[0mn\u001b[0m\u001b[0;34m,\u001b[0m\u001b[0;34m)\u001b[0m\u001b[0;34m)\u001b[0m\u001b[0;34m\u001b[0m\u001b[0;34m\u001b[0m\u001b[0m\n\u001b[0m\u001b[1;32m    214\u001b[0m     \u001b[0;32mif\u001b[0m \u001b[0mepsfcn\u001b[0m \u001b[0;32mis\u001b[0m \u001b[0;32mNone\u001b[0m\u001b[0;34m:\u001b[0m\u001b[0;34m\u001b[0m\u001b[0;34m\u001b[0m\u001b[0m\n\u001b[1;32m    215\u001b[0m         \u001b[0mepsfcn\u001b[0m \u001b[0;34m=\u001b[0m \u001b[0mfinfo\u001b[0m\u001b[0;34m(\u001b[0m\u001b[0mdtype\u001b[0m\u001b[0;34m)\u001b[0m\u001b[0;34m.\u001b[0m\u001b[0meps\u001b[0m\u001b[0;34m\u001b[0m\u001b[0;34m\u001b[0m\u001b[0m\n",
      "\u001b[0;32m/usr/local/anaconda3/lib/python3.7/site-packages/scipy/optimize/minpack.py\u001b[0m in \u001b[0;36m_check_func\u001b[0;34m(checker, argname, thefunc, x0, args, numinputs, output_shape)\u001b[0m\n\u001b[1;32m     24\u001b[0m def _check_func(checker, argname, thefunc, x0, args, numinputs,\n\u001b[1;32m     25\u001b[0m                 output_shape=None):\n\u001b[0;32m---> 26\u001b[0;31m     \u001b[0mres\u001b[0m \u001b[0;34m=\u001b[0m \u001b[0matleast_1d\u001b[0m\u001b[0;34m(\u001b[0m\u001b[0mthefunc\u001b[0m\u001b[0;34m(\u001b[0m\u001b[0;34m*\u001b[0m\u001b[0;34m(\u001b[0m\u001b[0;34m(\u001b[0m\u001b[0mx0\u001b[0m\u001b[0;34m[\u001b[0m\u001b[0;34m:\u001b[0m\u001b[0mnuminputs\u001b[0m\u001b[0;34m]\u001b[0m\u001b[0;34m,\u001b[0m\u001b[0;34m)\u001b[0m \u001b[0;34m+\u001b[0m \u001b[0margs\u001b[0m\u001b[0;34m)\u001b[0m\u001b[0;34m)\u001b[0m\u001b[0;34m)\u001b[0m\u001b[0;34m\u001b[0m\u001b[0;34m\u001b[0m\u001b[0m\n\u001b[0m\u001b[1;32m     27\u001b[0m     \u001b[0;32mif\u001b[0m \u001b[0;34m(\u001b[0m\u001b[0moutput_shape\u001b[0m \u001b[0;32mis\u001b[0m \u001b[0;32mnot\u001b[0m \u001b[0;32mNone\u001b[0m\u001b[0;34m)\u001b[0m \u001b[0;32mand\u001b[0m \u001b[0;34m(\u001b[0m\u001b[0mshape\u001b[0m\u001b[0;34m(\u001b[0m\u001b[0mres\u001b[0m\u001b[0;34m)\u001b[0m \u001b[0;34m!=\u001b[0m \u001b[0moutput_shape\u001b[0m\u001b[0;34m)\u001b[0m\u001b[0;34m:\u001b[0m\u001b[0;34m\u001b[0m\u001b[0;34m\u001b[0m\u001b[0m\n\u001b[1;32m     28\u001b[0m         \u001b[0;32mif\u001b[0m \u001b[0;34m(\u001b[0m\u001b[0moutput_shape\u001b[0m\u001b[0;34m[\u001b[0m\u001b[0;36m0\u001b[0m\u001b[0;34m]\u001b[0m \u001b[0;34m!=\u001b[0m \u001b[0;36m1\u001b[0m\u001b[0;34m)\u001b[0m\u001b[0;34m:\u001b[0m\u001b[0;34m\u001b[0m\u001b[0;34m\u001b[0m\u001b[0m\n",
      "\u001b[0;32m<ipython-input-131-3c4633ad9e1b>\u001b[0m in \u001b[0;36mflowline_eqns\u001b[0;34m(huxg, *huxglast)\u001b[0m\n\u001b[1;32m     83\u001b[0m     \u001b[0mFh\u001b[0m\u001b[0;34m[\u001b[0m\u001b[0mN1\u001b[0m\u001b[0;34m-\u001b[0m\u001b[0;36m1\u001b[0m\u001b[0;34m]\u001b[0m \u001b[0;34m=\u001b[0m \u001b[0;34m(\u001b[0m\u001b[0;36m1\u001b[0m\u001b[0;34m+\u001b[0m\u001b[0;36m0.5\u001b[0m\u001b[0;34m*\u001b[0m\u001b[0;34m(\u001b[0m\u001b[0;36m1\u001b[0m\u001b[0;34m+\u001b[0m\u001b[0;34m(\u001b[0m\u001b[0mds\u001b[0m\u001b[0;34m[\u001b[0m\u001b[0mN1\u001b[0m\u001b[0;34m-\u001b[0m\u001b[0;36m1\u001b[0m\u001b[0;34m]\u001b[0m\u001b[0;34m)\u001b[0m\u001b[0;34m/\u001b[0m\u001b[0mds\u001b[0m\u001b[0;34m[\u001b[0m\u001b[0mN1\u001b[0m\u001b[0;34m-\u001b[0m\u001b[0;36m2\u001b[0m\u001b[0;34m]\u001b[0m\u001b[0;34m)\u001b[0m\u001b[0;34m)\u001b[0m\u001b[0;34m*\u001b[0m\u001b[0mh\u001b[0m\u001b[0;34m[\u001b[0m\u001b[0mN1\u001b[0m\u001b[0;34m-\u001b[0m\u001b[0;36m1\u001b[0m\u001b[0;34m]\u001b[0m \u001b[0;34m-\u001b[0m \u001b[0;36m0.5\u001b[0m\u001b[0;34m*\u001b[0m\u001b[0;34m(\u001b[0m\u001b[0;36m1\u001b[0m\u001b[0;34m+\u001b[0m\u001b[0;34m(\u001b[0m\u001b[0mds\u001b[0m\u001b[0;34m[\u001b[0m\u001b[0mN1\u001b[0m\u001b[0;34m-\u001b[0m\u001b[0;36m1\u001b[0m\u001b[0;34m]\u001b[0m\u001b[0;34m/\u001b[0m\u001b[0mds\u001b[0m\u001b[0;34m[\u001b[0m\u001b[0mN1\u001b[0m\u001b[0;34m-\u001b[0m\u001b[0;36m2\u001b[0m\u001b[0;34m]\u001b[0m\u001b[0;34m)\u001b[0m\u001b[0;34m)\u001b[0m\u001b[0;34m*\u001b[0m\u001b[0mh\u001b[0m\u001b[0;34m[\u001b[0m\u001b[0mN1\u001b[0m\u001b[0;34m-\u001b[0m\u001b[0;36m2\u001b[0m\u001b[0;34m]\u001b[0m \u001b[0;34m-\u001b[0m \u001b[0mh\u001b[0m\u001b[0;34m[\u001b[0m\u001b[0mN1\u001b[0m\u001b[0;34m]\u001b[0m\u001b[0;34m;\u001b[0m\u001b[0;34m\u001b[0m\u001b[0;34m\u001b[0m\u001b[0m\n\u001b[1;32m     84\u001b[0m \u001b[0;34m\u001b[0m\u001b[0m\n\u001b[0;32m---> 85\u001b[0;31m     \u001b[0mFh\u001b[0m\u001b[0;34m[\u001b[0m\u001b[0mNx\u001b[0m\u001b[0;34m-\u001b[0m\u001b[0;36m1\u001b[0m\u001b[0;34m]\u001b[0m     \u001b[0;34m=\u001b[0m \u001b[0mss\u001b[0m\u001b[0;34m*\u001b[0m\u001b[0;34m(\u001b[0m\u001b[0mh\u001b[0m\u001b[0;34m[\u001b[0m\u001b[0mNx\u001b[0m\u001b[0;34m-\u001b[0m\u001b[0;36m1\u001b[0m\u001b[0;34m]\u001b[0m\u001b[0;34m-\u001b[0m\u001b[0mh_old\u001b[0m\u001b[0;34m[\u001b[0m\u001b[0mNx\u001b[0m\u001b[0;34m-\u001b[0m\u001b[0;36m1\u001b[0m\u001b[0;34m]\u001b[0m\u001b[0;34m)\u001b[0m\u001b[0;34m/\u001b[0m\u001b[0mdt\u001b[0m \u001b[0;34m-\u001b[0m \u001b[0mss\u001b[0m\u001b[0;34m*\u001b[0m\u001b[0msigma_elem\u001b[0m\u001b[0;34m[\u001b[0m\u001b[0mNx\u001b[0m\u001b[0;34m-\u001b[0m\u001b[0;36m2\u001b[0m\u001b[0;34m]\u001b[0m\u001b[0;34m*\u001b[0m\u001b[0;34m(\u001b[0m\u001b[0mxg\u001b[0m\u001b[0;34m-\u001b[0m\u001b[0mxg_old\u001b[0m\u001b[0;34m)\u001b[0m\u001b[0;34m*\u001b[0m\u001b[0;34m(\u001b[0m\u001b[0mh\u001b[0m\u001b[0;34m[\u001b[0m\u001b[0mNx\u001b[0m\u001b[0;34m-\u001b[0m\u001b[0;36m1\u001b[0m\u001b[0;34m]\u001b[0m\u001b[0;34m-\u001b[0m\u001b[0mh\u001b[0m\u001b[0;34m[\u001b[0m\u001b[0mNx\u001b[0m\u001b[0;34m-\u001b[0m\u001b[0;36m2\u001b[0m\u001b[0;34m]\u001b[0m\u001b[0;34m)\u001b[0m\u001b[0;34m/\u001b[0m\u001b[0;34m(\u001b[0m\u001b[0mdt\u001b[0m\u001b[0;34m*\u001b[0m\u001b[0mds\u001b[0m\u001b[0;34m[\u001b[0m\u001b[0mNx\u001b[0m\u001b[0;34m-\u001b[0m\u001b[0;36m2\u001b[0m\u001b[0;34m]\u001b[0m\u001b[0;34m*\u001b[0m\u001b[0mxg\u001b[0m\u001b[0;34m)\u001b[0m \u001b[0;34m+\u001b[0m \u001b[0;34m(\u001b[0m\u001b[0mh\u001b[0m\u001b[0;34m[\u001b[0m\u001b[0mNx\u001b[0m\u001b[0;34m-\u001b[0m\u001b[0;36m1\u001b[0m\u001b[0;34m]\u001b[0m\u001b[0;34m*\u001b[0m\u001b[0;34m(\u001b[0m\u001b[0mu\u001b[0m\u001b[0;34m[\u001b[0m\u001b[0mNx\u001b[0m\u001b[0;34m-\u001b[0m\u001b[0;36m1\u001b[0m\u001b[0;34m]\u001b[0m\u001b[0;34m+\u001b[0m\u001b[0mu\u001b[0m\u001b[0;34m[\u001b[0m\u001b[0mNx\u001b[0m\u001b[0;34m-\u001b[0m\u001b[0;36m2\u001b[0m\u001b[0;34m]\u001b[0m\u001b[0;34m)\u001b[0m \u001b[0;34m-\u001b[0m \u001b[0mh\u001b[0m\u001b[0;34m[\u001b[0m\u001b[0mNx\u001b[0m\u001b[0;34m-\u001b[0m\u001b[0;36m2\u001b[0m\u001b[0;34m]\u001b[0m\u001b[0;34m*\u001b[0m\u001b[0;34m(\u001b[0m\u001b[0mu\u001b[0m\u001b[0;34m[\u001b[0m\u001b[0mNx\u001b[0m\u001b[0;34m-\u001b[0m\u001b[0;36m2\u001b[0m\u001b[0;34m]\u001b[0m\u001b[0;34m+\u001b[0m\u001b[0mu\u001b[0m\u001b[0;34m[\u001b[0m\u001b[0mNx\u001b[0m\u001b[0;34m-\u001b[0m\u001b[0;36m3\u001b[0m\u001b[0;34m]\u001b[0m\u001b[0;34m)\u001b[0m\u001b[0;34m)\u001b[0m\u001b[0;34m/\u001b[0m\u001b[0;34m(\u001b[0m\u001b[0;36m2\u001b[0m\u001b[0;34m*\u001b[0m\u001b[0mxg\u001b[0m\u001b[0;34m*\u001b[0m\u001b[0mds\u001b[0m\u001b[0;34m[\u001b[0m\u001b[0mNx\u001b[0m\u001b[0;34m-\u001b[0m\u001b[0;36m2\u001b[0m\u001b[0;34m]\u001b[0m\u001b[0;34m)\u001b[0m \u001b[0;34m-\u001b[0m \u001b[0ma\u001b[0m\u001b[0;34m;\u001b[0m\u001b[0;34m\u001b[0m\u001b[0;34m\u001b[0m\u001b[0m\n\u001b[0m\u001b[1;32m     86\u001b[0m \u001b[0;34m\u001b[0m\u001b[0m\n\u001b[1;32m     87\u001b[0m   \u001b[0;31m#velocity\u001b[0m\u001b[0;34m\u001b[0m\u001b[0;34m\u001b[0m\u001b[0;34m\u001b[0m\u001b[0m\n",
      "\u001b[0;31mIndexError\u001b[0m: index 199 is out of bounds for axis 0 with size 199"
     ]
    }
   ],
   "source": [
    "from scipy.optimize import fsolve\n",
    "root = fsolve(flowline_eqns, huxg0,args=huxglast)"
   ]
  },
  {
   "cell_type": "code",
   "execution_count": null,
   "metadata": {},
   "outputs": [],
   "source": []
  }
 ],
 "metadata": {
  "kernelspec": {
   "display_name": "Python 3",
   "language": "python",
   "name": "python3"
  },
  "language_info": {
   "codemirror_mode": {
    "name": "ipython",
    "version": 3
   },
   "file_extension": ".py",
   "mimetype": "text/x-python",
   "name": "python",
   "nbconvert_exporter": "python",
   "pygments_lexer": "ipython3",
   "version": "3.7.3"
  }
 },
 "nbformat": 4,
 "nbformat_minor": 2
}
